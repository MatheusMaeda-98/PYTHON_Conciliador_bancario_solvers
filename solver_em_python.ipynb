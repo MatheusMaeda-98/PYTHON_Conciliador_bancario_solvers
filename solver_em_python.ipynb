{
  "nbformat": 4,
  "nbformat_minor": 0,
  "metadata": {
    "colab": {
      "provenance": []
    },
    "kernelspec": {
      "name": "python3",
      "display_name": "Python 3"
    },
    "language_info": {
      "name": "python"
    }
  },
  "cells": [
    {
      "cell_type": "code",
      "execution_count": null,
      "metadata": {
        "id": "otHCnb65VTsO"
      },
      "outputs": [],
      "source": [
        "from itertools import combinations\n",
        "\n",
        "# Lista de valores\n",
        "valores = [\n",
        "26475, 23071.88, 22238.47, 16800, 14000, 13000, 13000, 12500, 12000, 11902.5,\n",
        "            11500, 11305.68, 11000, 10920, 10000, 9800, 9000, 9000, 8000,\n",
        "            7746.32, 7500, 6144.8, 6000, 5000, 5000, 4500, 4500, 4312.29,\n",
        "            3266.66, 3027.5, 3000, 2321.75, 2100, 2060.68, 2003.28, 2000,\n",
        "            1914.54, 1622.25, 1380, 1029.13, 1000, 750, 614.23, 605.7, 600,\n",
        "            380.89, 250.02, 108.9, 67.95\n",
        "]\n",
        "\n",
        "# Função para encontrar combinação que soma 75000\n",
        "def encontrar_combinacao(valores, objetivo):\n",
        "    for r in range(1, len(valores) + 1):\n",
        "        for combo in combinations(valores, r):\n",
        "            if sum(combo) == objetivo:\n",
        "                return combo\n",
        "    return None\n",
        "\n",
        "# Soma desejada\n",
        "soma_desejada = 16995.92\n",
        "\n",
        "# Encontrar combinação\n",
        "resultado = encontrar_combinacao(valores, soma_desejada)\n",
        "\n",
        "# Exibir resultado\n",
        "if resultado:\n",
        "    print(\"Combinação encontrada:\")\n",
        "    for valor in resultado:\n",
        "        print(\"R$\", valor)\n",
        "else:\n",
        "    print(\"Não foi possível encontrar uma combinação que some\", soma_desejada)"
      ]
    },
    {
      "cell_type": "markdown",
      "source": [
        "**O solver abaixo é otimizado devido a quantidade de inputs e gera um resultado aproximado**"
      ],
      "metadata": {
        "id": "Z1c9pB1Pyur0"
      }
    },
    {
      "cell_type": "code",
      "source": [
        "import numpy as np\n",
        "\n",
        "# Lista de valores\n",
        "valores = np.array([\n",
        "3771.36 , 3098.89, 7290.67, 1357.50, 1629.00, 849.43, 2261.52, 1006.03,\n",
        "                     1375.89, 1058.67, 6125.58, 1103.59, 1389.24, 4814.6\n",
        "])\n",
        "\n",
        "# Soma desejada\n",
        "soma_desejada = 13421.8\n",
        "\n",
        "# Função para encontrar a combinação mais próxima usando programação dinâmica\n",
        "def encontrar_combinacao_aproximada(valores, objetivo):\n",
        "    n = len(valores)\n",
        "    dp = np.zeros((n + 1, int(objetivo) + 1))\n",
        "\n",
        "    for i in range(1, n + 1):\n",
        "        for j in range(int(objetivo) + 1):\n",
        "            if valores[i - 1] <= j:\n",
        "                dp[i][j] = max(dp[i - 1][j], dp[i - 1][j - int(valores[i - 1])] + valores[i - 1])\n",
        "            else:\n",
        "                dp[i][j] = dp[i - 1][j]\n",
        "\n",
        "    melhor_soma = dp[n][int(objetivo)]\n",
        "    melhor_combinacao = []\n",
        "\n",
        "    j = int(objetivo)\n",
        "    for i in range(n, 0, -1):\n",
        "        if dp[i][j] != dp[i - 1][j]:\n",
        "            melhor_combinacao.append(valores[i - 1])\n",
        "            j -= int(valores[i - 1])\n",
        "\n",
        "    return melhor_combinacao, melhor_soma\n",
        "\n",
        "# Encontrar combinação mais próxima\n",
        "resultado, soma = encontrar_combinacao_aproximada(valores, soma_desejada)\n",
        "\n",
        "# Exibir resultado\n",
        "if resultado:\n",
        "    print(\"Combinação encontrada (mais próxima):\")\n",
        "    for valor in resultado:\n",
        "        print(\"R$\", valor)\n",
        "    print(\"Soma total:\", soma)\n",
        "    print(\"Diferença para o objetivo:\", abs(soma_desejada - soma))\n",
        "else:\n",
        "    print(\"Não foi possível encontrar uma combinação.\")\n"
      ],
      "metadata": {
        "id": "cwQQXHaMy8rp",
        "colab": {
          "base_uri": "https://localhost:8080/"
        },
        "outputId": "b5008191-dcec-4f67-8dde-d05d6e1f1997"
      },
      "execution_count": null,
      "outputs": [
        {
          "output_type": "stream",
          "name": "stdout",
          "text": [
            "Combinação encontrada (mais próxima):\n",
            "R$ 4814.6\n",
            "R$ 1389.24\n",
            "R$ 1103.59\n",
            "R$ 1375.89\n",
            "R$ 2261.52\n",
            "R$ 849.43\n",
            "R$ 1629.0\n",
            "Soma total: 13423.27\n",
            "Diferença para o objetivo: 1.4700000000011642\n"
          ]
        }
      ]
    },
    {
      "cell_type": "markdown",
      "source": [
        "outro modelo com nomes"
      ],
      "metadata": {
        "id": "C7E503Ty1RqS"
      }
    },
    {
      "cell_type": "code",
      "source": [
        "import numpy as np\n",
        "\n",
        "# Lista de valores e seus nomes correspondentes\n",
        "itens = [\n",
        "   (\"DIOGO \", 78652.17), (\"EDUARDO3\", 173835), (\"EDUARDO V.\", 353920.24), (\"FERNANDO C\", 112954.63), (\"HL\", 174649.99), (\"JANAINA\", 90500), (\"JMD SERVICO\", 176299.99), (\"JL TORRE\", 120770), (\"M C A\", 165451.46000000002), (\"OKAYs\", 199500), (\"PAULO\", 78000), (\"PEDRO D\", 144244.04)\n",
        "]\n",
        "\n",
        "# Soma desejada\n",
        "soma_desejada = 16995.92\n",
        "\n",
        "# Função para encontrar a combinação mais próxima usando programação dinâmica\n",
        "def encontrar_combinacao_aproximada(itens, objetivo):\n",
        "    n = len(itens)\n",
        "    valores = [item[1] for item in itens]\n",
        "    dp = np.zeros((n + 1, int(objetivo) + 1))\n",
        "\n",
        "    for i in range(1, n + 1):\n",
        "        for j in range(int(objetivo) + 1):\n",
        "            if valores[i - 1] <= j:\n",
        "                dp[i][j] = max(dp[i - 1][j], dp[i - 1][j - int(valores[i - 1])] + valores[i - 1])\n",
        "            else:\n",
        "                dp[i][j] = dp[i - 1][j]\n",
        "\n",
        "    melhor_soma = dp[n][int(objetivo)]\n",
        "    melhor_combinacao = []\n",
        "\n",
        "    j = int(objetivo)\n",
        "    for i in range(n, 0, -1):\n",
        "        if dp[i][j] != dp[i - 1][j]:\n",
        "            melhor_combinacao.append(itens[i - 1])\n",
        "            j -= int(valores[i - 1])\n",
        "\n",
        "    return melhor_combinacao, melhor_soma\n",
        "\n",
        "# Encontrar combinação mais próxima\n",
        "resultado, soma = encontrar_combinacao_aproximada(itens, soma_desejada)\n",
        "\n",
        "# Exibir resultado\n",
        "if resultado:\n",
        "    print(\"Combinação encontrada (mais próxima):\")\n",
        "    for nome, valor in resultado:\n",
        "        print(f\"{nome}: R$ {valor:.2f},\")\n",
        "    print(\"Soma total:\", soma)\n",
        "    print(\"Diferença para o objetivo:\", abs(soma_desejada - soma))\n",
        "else:\n",
        "    print(\"Não foi possível encontrar uma combinação.\")\n"
      ],
      "metadata": {
        "colab": {
          "base_uri": "https://localhost:8080/"
        },
        "id": "mzID-OSK1UA2",
        "outputId": "8906ab5c-d68a-4b16-b0a1-e952f5e6259d"
      },
      "execution_count": null,
      "outputs": [
        {
          "output_type": "stream",
          "name": "stdout",
          "text": [
            "Não foi possível encontrar uma combinação.\n"
          ]
        }
      ]
    },
    {
      "cell_type": "markdown",
      "source": [],
      "metadata": {
        "id": "uT8pRALschuQ"
      }
    },
    {
      "cell_type": "markdown",
      "source": [],
      "metadata": {
        "id": "wd-ExbrOchqO"
      }
    }
  ]
}